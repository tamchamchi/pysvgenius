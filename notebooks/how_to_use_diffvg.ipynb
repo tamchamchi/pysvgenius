{
 "cells": [
  {
   "cell_type": "code",
   "execution_count": 1,
   "id": "e5f98cda",
   "metadata": {},
   "outputs": [],
   "source": [
    "import pydiffvg\n",
    "import torch\n",
    "import os"
   ]
  },
  {
   "cell_type": "code",
   "execution_count": 2,
   "id": "10f00781",
   "metadata": {},
   "outputs": [],
   "source": [
    "image_path = \"../data/test/output_image.jpg\""
   ]
  },
  {
   "cell_type": "code",
   "execution_count": 3,
   "id": "c5d8920b",
   "metadata": {},
   "outputs": [],
   "source": [
    "def render(canvas_width, canvas_height, shapes, shape_groups):\n",
    "    _render = pydiffvg.RenderFunction.apply\n",
    "    scene_args=pydiffvg.RenderFunction.serialize_scene(\\\n",
    "        canvas_height=canvas_height,\\\n",
    "        canvas_width=canvas_width,\\\n",
    "        shapes=shapes,\\\n",
    "        shape_groups=shape_groups)\n",
    "    img = _render(\n",
    "        canvas_width,\n",
    "        canvas_height,\n",
    "        2,\n",
    "        2,\n",
    "        0,\n",
    "        None,\n",
    "        *scene_args\n",
    "    )\n",
    "    return img"
   ]
  },
  {
   "cell_type": "code",
   "execution_count": 4,
   "id": "f3012a01",
   "metadata": {},
   "outputs": [],
   "source": [
    "pydiffvg.set_device(torch.device(\"cuda\"))"
   ]
  },
  {
   "cell_type": "code",
   "execution_count": 5,
   "id": "87ce5a30",
   "metadata": {},
   "outputs": [],
   "source": [
    "svg = os.path.join(\"../data/test/output.svg\")"
   ]
  },
  {
   "cell_type": "code",
   "execution_count": 6,
   "id": "f4853ad3",
   "metadata": {},
   "outputs": [],
   "source": [
    "canvas_width, canvas_height, shapes, shape_groups = pydiffvg.svg_to_scene(svg)"
   ]
  },
  {
   "cell_type": "code",
   "execution_count": 7,
   "id": "b7d5a010",
   "metadata": {},
   "outputs": [],
   "source": [
    "ref = render(canvas_width, canvas_height, shapes, shape_groups)"
   ]
  },
  {
   "cell_type": "code",
   "execution_count": 8,
   "id": "b0f155cf",
   "metadata": {},
   "outputs": [
    {
     "data": {
      "text/plain": [
       "torch.Size([384, 384, 4])"
      ]
     },
     "execution_count": 8,
     "metadata": {},
     "output_type": "execute_result"
    }
   ],
   "source": [
    "ref.shape"
   ]
  },
  {
   "cell_type": "code",
   "execution_count": 9,
   "id": "ad4933fe",
   "metadata": {},
   "outputs": [],
   "source": [
    "pydiffvg.imwrite(ref.cpu(), \"test_render.png\", gamma=2.2)"
   ]
  },
  {
   "cell_type": "code",
   "execution_count": 10,
   "id": "4576496b",
   "metadata": {},
   "outputs": [
    {
     "data": {
      "text/plain": [
       "tensor([0.8314, 0.6824, 0.3843, 1.0000])"
      ]
     },
     "execution_count": 10,
     "metadata": {},
     "output_type": "execute_result"
    }
   ],
   "source": [
    "shape_groups[0].fill_color"
   ]
  },
  {
   "cell_type": "markdown",
   "id": "96d579e3",
   "metadata": {},
   "source": [
    "# Aesthetic Evaluator Torch\n"
   ]
  },
  {
   "cell_type": "code",
   "execution_count": 11,
   "id": "ae0742d2",
   "metadata": {},
   "outputs": [],
   "source": [
    "import contextlib\n",
    "from pathlib import Path\n",
    "\n",
    "import clip\n",
    "import torch\n",
    "import matplotlib.pyplot as plt\n",
    "from PIL import Image\n",
    "from torchvision import transforms\n",
    "from torch import nn\n",
    "\n",
    "class AestheticPredictor(nn.Module):\n",
    "    def __init__(self, input_size):\n",
    "        super().__init__()\n",
    "        self.input_size = input_size\n",
    "        self.layers = nn.Sequential(\n",
    "            nn.Linear(self.input_size, 1024),\n",
    "            nn.Dropout(0.2),\n",
    "            nn.Linear(1024, 128),\n",
    "            nn.Dropout(0.2),\n",
    "            nn.Linear(128, 64),\n",
    "            nn.Dropout(0.1),\n",
    "            nn.Linear(64, 16),\n",
    "            nn.Linear(16, 1),\n",
    "        )\n",
    "\n",
    "    def forward(self, x):\n",
    "        return self.layers(x)\n",
    "    \n",
    "class AestheticEvaluatorTorch:\n",
    "    def __init__(self):\n",
    "        self.model_path = \"../models/sac+logos+ava1-l14-linearMSE.pth\"\n",
    "        self.device = torch.device(\"cuda\" if torch.cuda.is_available() else \"cpu\")\n",
    "        self.predictor, self.clip_model, self.preprocessor = self.load()\n",
    "\n",
    "    def load(self):\n",
    "        state_dict = torch.load(self.model_path, weights_only=True, map_location=self.device)\n",
    "\n",
    "        predictor = AestheticPredictor(768).half()\n",
    "        predictor.load_state_dict(state_dict)\n",
    "        predictor.to(self.device)\n",
    "        predictor.eval()\n",
    "\n",
    "        clip_model, _ = clip.load(\n",
    "                \"ViT-L/14\", device=self.device)\n",
    "        preprocessor = transforms.Compose(\n",
    "            [\n",
    "                transforms.Resize(224, interpolation=transforms.InterpolationMode.BICUBIC),\n",
    "                transforms.CenterCrop(224),\n",
    "                # transforms.Lambda(lambda x: x.clamp_(0, 1)),\n",
    "                transforms.Normalize((0.48145466, 0.4578275, 0.40821073), (0.26862954, 0.26130258, 0.27577711)),\n",
    "            ]\n",
    "        )\n",
    "        return predictor, clip_model, preprocessor\n",
    "    \n",
    "    def score(self, image: torch.Tensor, no_grad: bool = True):\n",
    "        if image.ndim != 4:\n",
    "            raise ValueError(f\"image must be 4 channels (shape: {image.shape})\")\n",
    "        \n",
    "        with torch.no_grad() if no_grad else contextlib.nullcontext():\n",
    "            image = self.preprocessor(image)\n",
    "            image_features = self.clip_model.encode_image(image)\n",
    "\n",
    "            image_features /= image_features.norm(dim=-1, keepdim=True)\n",
    "\n",
    "            score_tensor = self.predictor(image_features)\n",
    "        \n",
    "        return score_tensor / 10\n",
    "\n"
   ]
  },
  {
   "cell_type": "code",
   "execution_count": 12,
   "id": "4fe3b83d",
   "metadata": {},
   "outputs": [],
   "source": [
    "aesthetic_evaluator = AestheticEvaluatorTorch()"
   ]
  },
  {
   "cell_type": "code",
   "execution_count": 13,
   "id": "a29cc920",
   "metadata": {},
   "outputs": [
    {
     "data": {
      "text/plain": [
       "4"
      ]
     },
     "execution_count": 13,
     "metadata": {},
     "output_type": "execute_result"
    }
   ],
   "source": [
    "ref.shape[-1]"
   ]
  },
  {
   "cell_type": "code",
   "execution_count": 14,
   "id": "5f79f918",
   "metadata": {},
   "outputs": [],
   "source": [
    "if ref.shape[-1] == 4:\n",
    "    ref = ref[..., :3]  # Bỏ kênh alpha\n",
    "\n",
    "# Chuyển từ HWC -> CHW\n",
    "ref = ref.permute(2, 0, 1)  # [3, H, W]\n",
    "\n",
    "# Thêm batch dimension\n",
    "ref = ref.unsqueeze(0)  # [1, 3, H, W]\n",
    "\n",
    "# Đưa lên GPU nếu model đang ở cuda:1\n",
    "ref = ref.to(\"cuda\")"
   ]
  },
  {
   "cell_type": "code",
   "execution_count": 15,
   "id": "b57e1866",
   "metadata": {},
   "outputs": [],
   "source": [
    "score = aesthetic_evaluator.score(ref)"
   ]
  },
  {
   "cell_type": "code",
   "execution_count": 16,
   "id": "423afc78",
   "metadata": {},
   "outputs": [
    {
     "data": {
      "text/plain": [
       "torch.Size([1, 1])"
      ]
     },
     "execution_count": 16,
     "metadata": {},
     "output_type": "execute_result"
    }
   ],
   "source": [
    "score.shape"
   ]
  },
  {
   "cell_type": "code",
   "execution_count": 17,
   "id": "a349c823",
   "metadata": {},
   "outputs": [],
   "source": [
    "import pydiffvg\n",
    "import argparse\n",
    "import ttools.modules\n",
    "import torch\n",
    "import skimage.io\n",
    "\n",
    "gamma = 1.0\n"
   ]
  },
  {
   "cell_type": "code",
   "execution_count": 18,
   "id": "9bd01a9f",
   "metadata": {},
   "outputs": [],
   "source": [
    "import torch.nn.functional as F\n",
    "import skimage.io\n",
    "\n",
    "target = torch.from_numpy(skimage.io.imread(\"../data/test/output_image.jpg\")).to(torch.float32) / 255.0\n",
    "target = target.pow(gamma)\n",
    "target = target.to(pydiffvg.get_device())\n",
    "target = target.unsqueeze(0)  # [1, H, W, C]\n",
    "target = target.permute(0, 3, 1, 2)  # [1, C, H, W]\n",
    "\n",
    "# ✅ Resize về [1, 3, 384, 384]\n",
    "target = F.interpolate(target, size=(384, 384), mode='bilinear', align_corners=False)\n"
   ]
  },
  {
   "cell_type": "code",
   "execution_count": 19,
   "id": "c0dacd3f",
   "metadata": {},
   "outputs": [
    {
     "data": {
      "text/plain": [
       "torch.Size([1, 3, 384, 384])"
      ]
     },
     "execution_count": 19,
     "metadata": {},
     "output_type": "execute_result"
    }
   ],
   "source": [
    "target.shape"
   ]
  },
  {
   "cell_type": "code",
   "execution_count": 20,
   "id": "cfa0c255",
   "metadata": {},
   "outputs": [],
   "source": [
    "canvas_width, canvas_height, shapes, shape_groups = \\\n",
    "    pydiffvg.svg_to_scene(svg)\n",
    "scene_args = pydiffvg.RenderFunction.serialize_scene(\\\n",
    "    canvas_width, canvas_height, shapes, shape_groups)\n",
    "\n",
    "render = pydiffvg.RenderFunction.apply\n",
    "img = render(canvas_width, # width\n",
    "                canvas_height, # height\n",
    "                2,   # num_samples_x\n",
    "                2,   # num_samples_y\n",
    "                0,   # seed\n",
    "                None, # bg\n",
    "                *scene_args)"
   ]
  },
  {
   "cell_type": "code",
   "execution_count": 21,
   "id": "e6711a74",
   "metadata": {},
   "outputs": [
    {
     "data": {
      "text/plain": [
       "torch.Size([384, 384, 4])"
      ]
     },
     "execution_count": 21,
     "metadata": {},
     "output_type": "execute_result"
    }
   ],
   "source": [
    "img.shape"
   ]
  },
  {
   "cell_type": "code",
   "execution_count": 22,
   "id": "f53e897c",
   "metadata": {},
   "outputs": [],
   "source": [
    "points_vars = []\n",
    "for path in shapes:\n",
    "    path.points.requires_grad = True\n",
    "    points_vars.append(path.points)\n",
    "color_vars = {}\n",
    "for group in shape_groups:\n",
    "    group.fill_color.requires_grad = True\n",
    "    color_vars[group.fill_color.data_ptr()] = group.fill_color\n",
    "color_vars = list(color_vars.values())"
   ]
  },
  {
   "cell_type": "code",
   "execution_count": 23,
   "id": "ebe94b04",
   "metadata": {},
   "outputs": [],
   "source": [
    "points_optim = torch.optim.Adam(points_vars, lr=1.0)\n",
    "color_optim = torch.optim.Adam(color_vars, lr=0.01)"
   ]
  },
  {
   "cell_type": "code",
   "execution_count": 24,
   "id": "b5ea61d5",
   "metadata": {},
   "outputs": [],
   "source": [
    "loss_list = []"
   ]
  },
  {
   "cell_type": "code",
   "execution_count": 25,
   "id": "2206f3c6",
   "metadata": {},
   "outputs": [],
   "source": [
    "from tqdm import tqdm\n",
    "num_iter = 300"
   ]
  },
  {
   "cell_type": "code",
   "execution_count": 26,
   "id": "4d7754a6",
   "metadata": {},
   "outputs": [
    {
     "name": "stderr",
     "output_type": "stream",
     "text": [
      "100%|██████████| 300/300 [00:16<00:00, 17.80it/s]\n"
     ]
    }
   ],
   "source": [
    "for _ in tqdm(range(num_iter)):\n",
    "    points_optim.zero_grad()\n",
    "    color_optim.zero_grad()\n",
    "\n",
    "    scene_args = pydiffvg.RenderFunction.serialize_scene(\n",
    "        canvas_width, canvas_height, shapes, shape_groups\n",
    "    )\n",
    "\n",
    "    img = render(canvas_width, canvas_height, 2, 2, 0, None, *scene_args)\n",
    "    if img.shape[-1] == 4:\n",
    "        image = img[..., :3]  # Bỏ kênh alpha\n",
    "    image = image.permute(2, 0, 1)  # HWC -> CHW\n",
    "    image = image.unsqueeze(0)\n",
    "\n",
    "    \n",
    "    aesthetic = aesthetic_evaluator.score(image)\n",
    "    \n",
    "    img = img[:, :, 3:4] * img[:, :, :3] + torch.ones(img.shape[0], img.shape[1], 3, device = pydiffvg.get_device()) * (1 - img[:, :, 3:4])\n",
    "    img = img[:, :, :3]\n",
    "    img = img.unsqueeze(0)\n",
    "    img = img.permute(0, 3, 1, 2) # NHWC -> NCHW\n",
    "\n",
    "\n",
    "    # loss = - aesthetic + (img - target).pow(2).mean()\n",
    "    loss = (img-target).pow(2).mean()\n",
    "    loss_list.append(loss.item())\n",
    "    \n",
    "    # Backpropagate the gradients.\n",
    "    loss.backward()\n",
    "\n",
    "    # Take a gradient descent step.\n",
    "    points_optim.step()\n",
    "    color_optim.step()\n",
    "    for group in shape_groups:\n",
    "        group.fill_color.data.clamp_(0.0, 1.0)\n",
    "\n",
    "pydiffvg.save_svg('results.svg',\n",
    "                            canvas_width, canvas_height, shapes, shape_groups)\n"
   ]
  },
  {
   "cell_type": "code",
   "execution_count": null,
   "id": "dc8ed5f6",
   "metadata": {},
   "outputs": [
    {
     "data": {
      "image/png": "[encoded data removed]",
      "text/plain": [
       "<Figure size 1000x500 with 1 Axes>"
      ]
     },
     "metadata": {},
     "output_type": "display_data"
    }
   ],
   "source": [
    "import matplotlib.pyplot as plt\n",
    "\n",
    "\n",
    "plt.figure(figsize=(10, 5))\n",
    "plt.plot(loss_list, label='Loss', color='blue')\n",
    "plt.title(\"Training Loss over Iterations\")\n",
    "plt.xlabel(\"Iteration\")\n",
    "plt.ylabel(\"Loss\")\n",
    "plt.grid(True)\n",
    "plt.legend()\n",
    "plt.tight_layout()\n",
    "plt.show()\n"
   ]
  },
  {
   "cell_type": "code",
   "execution_count": null,
   "id": "75583858",
   "metadata": {},
   "outputs": [],
   "source": []
  }
 ],
 "metadata": {
  "kernelspec": {
   "display_name": "pysvgenius",
   "language": "python",
   "name": "python3"
  },
  "language_info": {
   "codemirror_mode": {
    "name": "ipython",
    "version": 3
   },
   "file_extension": ".py",
   "mimetype": "text/x-python",
   "name": "python",
   "nbconvert_exporter": "python",
   "pygments_lexer": "ipython3",
   "version": "3.10.13"
  }
 },
 "nbformat": 4,
 "nbformat_minor": 5
}
