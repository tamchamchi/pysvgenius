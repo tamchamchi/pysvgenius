{
 "cells": [
  {
   "cell_type": "code",
   "execution_count": 1,
   "id": "e5f98cda",
   "metadata": {},
   "outputs": [],
   "source": [
    "import pydiffvg\n",
    "import torch\n",
    "import os"
   ]
  },
  {
   "cell_type": "code",
   "execution_count": 2,
   "id": "10f00781",
   "metadata": {},
   "outputs": [],
   "source": [
    "image_path = \"../data/test/output_image.jpg\""
   ]
  },
  {
   "cell_type": "code",
   "execution_count": 3,
   "id": "f3012a01",
   "metadata": {},
   "outputs": [],
   "source": [
    "pydiffvg.set_device(torch.device(\"cuda\"))"
   ]
  },
  {
   "cell_type": "markdown",
   "id": "96d579e3",
   "metadata": {},
   "source": [
    "# Aesthetic Evaluator Torch\n"
   ]
  },
  {
   "cell_type": "code",
   "execution_count": 4,
   "id": "ae0742d2",
   "metadata": {},
   "outputs": [],
   "source": [
    "import contextlib\n",
    "from pathlib import Path\n",
    "\n",
    "import clip\n",
    "import torch\n",
    "import matplotlib.pyplot as plt\n",
    "from PIL import Image\n",
    "from torchvision import transforms\n",
    "from torch import nn\n",
    "\n",
    "class AestheticPredictor(nn.Module):\n",
    "    def __init__(self, input_size):\n",
    "        super().__init__()\n",
    "        self.input_size = input_size\n",
    "        self.layers = nn.Sequential(\n",
    "            nn.Linear(self.input_size, 1024),\n",
    "            nn.Dropout(0.2),\n",
    "            nn.Linear(1024, 128),\n",
    "            nn.Dropout(0.2),\n",
    "            nn.Linear(128, 64),\n",
    "            nn.Dropout(0.1),\n",
    "            nn.Linear(64, 16),\n",
    "            nn.Linear(16, 1),\n",
    "        )\n",
    "\n",
    "    def forward(self, x):\n",
    "        return self.layers(x)\n",
    "    \n",
    "class AestheticEvaluatorTorch:\n",
    "    def __init__(self):\n",
    "        self.model_path = \"../models/sac+logos+ava1-l14-linearMSE.pth\"\n",
    "        self.device = torch.device(\"cuda\" if torch.cuda.is_available() else \"cpu\")\n",
    "        self.predictor, self.clip_model, self.preprocessor = self.load()\n",
    "\n",
    "    def load(self):\n",
    "        state_dict = torch.load(self.model_path, weights_only=True, map_location=self.device)\n",
    "\n",
    "        predictor = AestheticPredictor(768).half()\n",
    "        predictor.load_state_dict(state_dict)\n",
    "        predictor.to(self.device)\n",
    "        predictor.eval()\n",
    "\n",
    "        clip_model, _ = clip.load(\n",
    "                \"ViT-L/14\", device=self.device)\n",
    "        preprocessor = transforms.Compose(\n",
    "            [\n",
    "                transforms.Resize(224, interpolation=transforms.InterpolationMode.BICUBIC),\n",
    "                transforms.CenterCrop(224),\n",
    "                # transforms.Lambda(lambda x: x.clamp_(0, 1)),\n",
    "                transforms.Normalize((0.48145466, 0.4578275, 0.40821073), (0.26862954, 0.26130258, 0.27577711)),\n",
    "            ]\n",
    "        )\n",
    "        return predictor, clip_model, preprocessor\n",
    "    \n",
    "    def score(self, image: torch.Tensor, no_grad: bool = True):\n",
    "        if image.ndim != 4:\n",
    "            raise ValueError(f\"image must be 4 channels (shape: {image.shape})\")\n",
    "        \n",
    "        with torch.no_grad() if no_grad else contextlib.nullcontext():\n",
    "            image = self.preprocessor(image)\n",
    "            image_features = self.clip_model.encode_image(image)\n",
    "\n",
    "            image_features /= image_features.norm(dim=-1, keepdim=True)\n",
    "\n",
    "            score_tensor = self.predictor(image_features)\n",
    "        \n",
    "        return score_tensor / 10\n",
    "\n"
   ]
  },
  {
   "cell_type": "code",
   "execution_count": 5,
   "id": "a349c823",
   "metadata": {},
   "outputs": [],
   "source": [
    "import pydiffvg\n",
    "import argparse\n",
    "import ttools.modules\n",
    "import torch\n",
    "import skimage.io\n",
    "\n",
    "gamma = 1.0\n"
   ]
  },
  {
   "cell_type": "code",
   "execution_count": 6,
   "id": "71bd026c",
   "metadata": {},
   "outputs": [
    {
     "name": "stderr",
     "output_type": "stream",
     "text": [
      "/home/anhndt/.conda/envs/pysvgenius/lib/python3.10/site-packages/tqdm/auto.py:21: TqdmWarning: IProgress not found. Please update jupyter and ipywidgets. See https://ipywidgets.readthedocs.io/en/stable/user_install.html\n",
      "  from .autonotebook import tqdm as notebook_tqdm\n"
     ]
    }
   ],
   "source": [
    "import sys\n",
    "sys.path.append(\"/home/anhndt/pysvgenius/src\")\n",
    "from optimizer.components.image_processor_torch import ImageProcessorTorch"
   ]
  },
  {
   "cell_type": "code",
   "execution_count": 7,
   "id": "c99b2af4",
   "metadata": {},
   "outputs": [],
   "source": [
    "device = \"cuda\" if torch.cuda.is_available() else \"cpu\""
   ]
  },
  {
   "cell_type": "code",
   "execution_count": 8,
   "id": "a776fe80",
   "metadata": {},
   "outputs": [],
   "source": [
    "aesthetic_evaluator = AestheticEvaluatorTorch()"
   ]
  },
  {
   "cell_type": "code",
   "execution_count": 9,
   "id": "f1098b9b",
   "metadata": {},
   "outputs": [],
   "source": [
    "image_processor_torch = ImageProcessorTorch(seed=43).to(device)\n",
    "image_processor_torch_ref = ImageProcessorTorch(seed=43).to(device)"
   ]
  },
  {
   "cell_type": "code",
   "execution_count": 10,
   "id": "607d0ba7",
   "metadata": {},
   "outputs": [],
   "source": [
    "import skimage.io\n",
    "import torch.nn.functional as F\n",
    "\n",
    "\n",
    "target = torch.from_numpy(skimage.io.imread(\"/home/anhndt/pysvgenius/data/test/Screenshot 2025-05-29 175550.png\")).to(torch.float32) / 255.0\n",
    "target = target.pow(gamma)\n",
    "target = target.to(pydiffvg.get_device())[:, :, :3]\n",
    "target = target.unsqueeze(0)\n",
    "target = target.permute(0, 3, 1, 2) # NHWC -> NCHW\n",
    "target = F.interpolate(target, size=(384, 384), mode='bilinear', align_corners=False)\n"
   ]
  },
  {
   "cell_type": "code",
   "execution_count": 11,
   "id": "91af21d6",
   "metadata": {},
   "outputs": [
    {
     "data": {
      "text/plain": [
       "torch.Size([1, 3, 384, 384])"
      ]
     },
     "execution_count": 11,
     "metadata": {},
     "output_type": "execute_result"
    }
   ],
   "source": [
    "target.shape"
   ]
  },
  {
   "cell_type": "code",
   "execution_count": 12,
   "id": "1c1babf7",
   "metadata": {},
   "outputs": [],
   "source": [
    "svg_path = os.path.join(\"/home/anhndt/pysvgenius/data/test/test_svg.svg\")\n",
    "# svg_path = os.path.join(\"/home/anhndt/pysvgenius/notebooks/optimized_svg.svg\")\n",
    "\n",
    "canvas_width, canvas_height, shapes, shape_groups = pydiffvg.svg_to_scene(svg_path)"
   ]
  },
  {
   "cell_type": "code",
   "execution_count": 13,
   "id": "f53e897c",
   "metadata": {},
   "outputs": [],
   "source": [
    "points_vars = []\n",
    "for path in shapes:\n",
    "    path.points.requires_grad = True\n",
    "    points_vars.append(path.points)\n",
    "color_vars = {}\n",
    "for group in shape_groups:\n",
    "    group.fill_color.requires_grad = True\n",
    "    color_vars[group.fill_color.data_ptr()] = group.fill_color\n",
    "color_vars = list(color_vars.values())"
   ]
  },
  {
   "cell_type": "code",
   "execution_count": 14,
   "id": "ebe94b04",
   "metadata": {},
   "outputs": [],
   "source": [
    "points_optim = torch.optim.Adam(points_vars, lr=1.0)\n",
    "color_optim = torch.optim.Adam(color_vars, lr=0.01)"
   ]
  },
  {
   "cell_type": "code",
   "execution_count": 15,
   "id": "b5ea61d5",
   "metadata": {},
   "outputs": [],
   "source": [
    "loss_list = []"
   ]
  },
  {
   "cell_type": "code",
   "execution_count": 16,
   "id": "2206f3c6",
   "metadata": {},
   "outputs": [],
   "source": [
    "from tqdm import tqdm\n",
    "num_iter=200"
   ]
  },
  {
   "cell_type": "code",
   "execution_count": 17,
   "id": "80089650",
   "metadata": {},
   "outputs": [],
   "source": [
    "render = pydiffvg.RenderFunction.apply"
   ]
  },
  {
   "cell_type": "code",
   "execution_count": 18,
   "id": "4d7754a6",
   "metadata": {},
   "outputs": [
    {
     "name": "stderr",
     "output_type": "stream",
     "text": [
      "100%|██████████| 200/200 [00:08<00:00, 23.59it/s]\n"
     ]
    }
   ],
   "source": [
    "for _ in tqdm(range(num_iter)):\n",
    "    points_optim.zero_grad()\n",
    "    color_optim.zero_grad()\n",
    "\n",
    "    scene_args = pydiffvg.RenderFunction.serialize_scene(\n",
    "        canvas_width, canvas_height, shapes, shape_groups\n",
    "    )\n",
    "    \n",
    "    background = torch.ones((canvas_width, canvas_height, 4), device=device)\n",
    "\n",
    "    img = (\n",
    "        render(canvas_width, canvas_height, 2, 2, 0, background, *scene_args)[:, :, :3]\n",
    "        .permute(2, 0, 1)\n",
    "        .unsqueeze(0)\n",
    "        .to(device)\n",
    "    )\n",
    "    aesthetic = aesthetic_evaluator.score(img)\n",
    "\n",
    "    # loss = - aesthetic + (img - target_tensor).pow(2).mean()\n",
    "    loss = (img - target).pow(2).mean()\n",
    "    loss_list.append(loss.item())\n",
    "    \n",
    "    # Backpropagate the gradients.\n",
    "    loss.backward()\n",
    "\n",
    "    # Take a gradient descent step.\n",
    "    points_optim.step()\n",
    "    color_optim.step()\n",
    "    for group in shape_groups:\n",
    "        group.fill_color.data.clamp_(0.0, 1.0)\n",
    "\n",
    "pydiffvg.save_svg('results.svg',\n",
    "                            canvas_width, canvas_height, shapes, shape_groups)\n"
   ]
  },
  {
   "cell_type": "code",
   "execution_count": 19,
   "id": "dc8ed5f6",
   "metadata": {},
   "outputs": [
    {
     "data": {
      "image/png": "[encoded data removed]",
      "text/plain": [
       "<Figure size 1000x500 with 1 Axes>"
      ]
     },
     "metadata": {},
     "output_type": "display_data"
    }
   ],
   "source": [
    "import matplotlib.pyplot as plt\n",
    "\n",
    "\n",
    "plt.figure(figsize=(10, 5))\n",
    "plt.plot(loss_list, label='Loss', color='blue')\n",
    "plt.title(\"Training Loss over Iterations\")\n",
    "plt.xlabel(\"Iteration\")\n",
    "plt.ylabel(\"Loss\")\n",
    "plt.grid(True)\n",
    "plt.legend()\n",
    "plt.tight_layout()\n",
    "plt.show()\n"
   ]
  },
  {
   "cell_type": "code",
   "execution_count": 20,
   "id": "08a76997",
   "metadata": {},
   "outputs": [],
   "source": [
    "from scour import scour\n",
    "def optimize_svg(svg):\n",
    "    options = scour.parse_args([\n",
    "        '--enable-viewboxing',\n",
    "        '--enable-id-stripping',\n",
    "        '--enable-comment-stripping',\n",
    "        '--shorten-ids',\n",
    "        '--indent=none',\n",
    "        '--strip-xml-prolog',\n",
    "        '--remove-metadata',\n",
    "        '--remove-descriptive-elements',\n",
    "        '--disable-embed-rasters',\n",
    "        '--enable-viewboxing',\n",
    "        '--create-groups',\n",
    "        '--renderer-workaround',\n",
    "        '--set-precision=2',\n",
    "    ])\n",
    "\n",
    "    svg = scour.scourString(svg, options)\n",
    "    \n",
    "    svg = svg.replace('id=\"\"', '')\n",
    "    svg = svg.replace('version=\"1.0\"', '')\n",
    "    svg = svg.replace('version=\"1.1\"', '')\n",
    "    svg = svg.replace('version=\"2.0\"', '')\n",
    "    svg = svg.replace('  ', ' ')\n",
    "    svg = svg.replace('>\\n', '>')\n",
    "    \n",
    "    return svg"
   ]
  },
  {
   "cell_type": "code",
   "execution_count": null,
   "id": "75583858",
   "metadata": {},
   "outputs": [
    {
     "data": {
      "text/plain": [
       "38746"
      ]
     },
     "execution_count": 21,
     "metadata": {},
     "output_type": "execute_result"
    }
   ],
   "source": [
    "with open(\"/home/anhndt/pysvgenius/notebooks/results.svg\", 'r') as f:\n",
    "    svg_str = f.read()\n",
    "\n",
    "len(svg_str.encode(\"utf-8\"))"
   ]
  },
  {
   "cell_type": "code",
   "execution_count": 22,
   "id": "4133bdc8",
   "metadata": {},
   "outputs": [
    {
     "name": "stdout",
     "output_type": "stream",
     "text": [
      "8283\n"
     ]
    }
   ],
   "source": [
    "optimized_svg = optimize_svg(svg_str)\n",
    "print(len(optimized_svg.encode('utf-8')))"
   ]
  },
  {
   "cell_type": "code",
   "execution_count": null,
   "id": "b4743f3a",
   "metadata": {},
   "outputs": [
    {
     "ename": "",
     "evalue": "",
     "output_type": "error",
     "traceback": [
      "\u001b[1;31mThe Kernel crashed while executing code in the current cell or a previous cell. \n",
      "\u001b[1;31mPlease review the code in the cell(s) to identify a possible cause of the failure. \n",
      "\u001b[1;31mClick <a href='https://aka.ms/vscodeJupyterKernelCrash'>here</a> for more info. \n",
      "\u001b[1;31mView Jupyter <a href='command:jupyter.viewOutput'>log</a> for further details."
     ]
    }
   ],
   "source": [
    "with open(\"optimized_svg.svg\", 'w') as f:\n",
    "    f.write(optimized_svg)"
   ]
  },
  {
   "cell_type": "code",
   "execution_count": null,
   "id": "4983f0e9",
   "metadata": {},
   "outputs": [],
   "source": []
  }
 ],
 "metadata": {
  "kernelspec": {
   "display_name": "pysvgenius",
   "language": "python",
   "name": "python3"
  },
  "language_info": {
   "codemirror_mode": {
    "name": "ipython",
    "version": 3
   },
   "file_extension": ".py",
   "mimetype": "text/x-python",
   "name": "python",
   "nbconvert_exporter": "python",
   "pygments_lexer": "ipython3",
   "version": "3.10.13"
  }
 },
 "nbformat": 4,
 "nbformat_minor": 5
}
